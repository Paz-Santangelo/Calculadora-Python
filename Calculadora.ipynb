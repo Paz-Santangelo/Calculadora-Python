{
  "nbformat": 4,
  "nbformat_minor": 0,
  "metadata": {
    "colab": {
      "provenance": []
    },
    "kernelspec": {
      "name": "python3",
      "display_name": "Python 3"
    },
    "language_info": {
      "name": "python"
    }
  },
  "cells": [
    {
      "cell_type": "code",
      "source": [
        "def sumar(num1, num2):\n",
        "  suma = num1 + num2\n",
        "  return suma"
      ],
      "metadata": {
        "id": "EZb0-f1Nx0Bk"
      },
      "execution_count": 10,
      "outputs": []
    },
    {
      "cell_type": "code",
      "source": [
        "def restar(num1, num2):\n",
        "  if(num1 > num2):\n",
        "    restar = num1 - num2\n",
        "  else:\n",
        "    restar = num2 - num1\n",
        "  return restar "
      ],
      "metadata": {
        "id": "aYCbdZiAyRXX"
      },
      "execution_count": 3,
      "outputs": []
    },
    {
      "cell_type": "code",
      "source": [
        "def multiplicar(num1, num2):\n",
        "  multiplicacion = num1 * num2\n",
        "  return multiplicacion"
      ],
      "metadata": {
        "id": "rWKr8YH2y615"
      },
      "execution_count": 11,
      "outputs": []
    },
    {
      "cell_type": "code",
      "source": [
        "def dividir(num1, num2):\n",
        "  if(num2 == 0):\n",
        "    print(\"No se puede realizar la división por cero, intente con otro número\")\n",
        "  else:\n",
        "    return num1 / num2\n",
        "    "
      ],
      "metadata": {
        "id": "F3Xfb9CSzG52"
      },
      "execution_count": 4,
      "outputs": []
    },
    {
      "cell_type": "code",
      "execution_count": 17,
      "metadata": {
        "colab": {
          "base_uri": "https://localhost:8080/"
        },
        "id": "Q0SF4KQsxwkI",
        "outputId": "94e401c5-432e-40a3-bcda-4db79ecb5a88"
      },
      "outputs": [
        {
          "output_type": "stream",
          "name": "stdout",
          "text": [
            "Por favor, ingrese el primer número para realizar la operación matemática: 20\n",
            "Ahora, ingrese el segundo número: 20\n",
            "Seleccione una de las siguientes operaciones, ingresando el número de la operación correspondiente:\n",
            "1. Sumar\n",
            "2. Restar\n",
            "3. Multiplicar\n",
            "4. Dividir\n",
            "Opción seleccionada: 3\n",
            "Resultado de la multiplicación: 400.0\n"
          ]
        }
      ],
      "source": [
        "num1 = float(input(\"Por favor, ingrese el primer número para realizar la operación matemática: \"))\n",
        "num2 = float(input(\"Ahora, ingrese el segundo número: \"))\n",
        "print(\"Seleccione una de las siguientes operaciones, ingresando el número de la operación correspondiente:\")\n",
        "print(\"1. Sumar\")\n",
        "print(\"2. Restar\")\n",
        "print(\"3. Multiplicar\")\n",
        "print(\"4. Dividir\")\n",
        "opcion = int(input(\"Opción seleccionada: \"))\n",
        "\n",
        "if(opcion == 1):\n",
        "  print(\"Resultado de la suma:\", sumar(num1, num2))\n",
        "elif(opcion == 2):\n",
        "  print(\"Resultado de la resta:\", restar(num1, num2))\n",
        "elif(opcion == 3):\n",
        "  print(\"Resultado de la multiplicación:\", multiplicar(num1, num2)) \n",
        "elif(opcion == 4):\n",
        "  print(\"Resultado de la división:\", dividir(num1, num2))\n",
        "else:\n",
        "  print(\"Has ingresado una opción inválida.\")\n",
        "\n",
        "\n"
      ]
    }
  ]
}